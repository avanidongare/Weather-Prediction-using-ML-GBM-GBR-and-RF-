{
  "cells": [
    {
      "cell_type": "code",
      "execution_count": 9,
      "metadata": {
        "id": "DkH304K0syOt"
      },
      "outputs": [],
      "source": [
        "import pandas as pd\n",
        "from sklearn.model_selection import train_test_split\n",
        "from sklearn.ensemble import GradientBoostingRegressor, RandomForestRegressor, StackingRegressor\n",
        "from sklearn.linear_model import LinearRegression\n",
        "from sklearn.metrics import mean_squared_error, r2_score\n",
        "from sklearn.pipeline import Pipeline\n",
        "from sklearn.impute import SimpleImputer\n",
        "from sklearn.preprocessing import StandardScaler\n",
        "import numpy as np\n",
        "\n",
        "# Load the dataset\n",
        "data = pd.read_csv('/weather-automated-sensors-dataset.csv')\n",
        "data = data.dropna(subset=[\"Air Temperature\"])\n"
      ]
    },
    {
      "cell_type": "code",
      "execution_count": 10,
      "metadata": {
        "colab": {
          "base_uri": "https://localhost:8080/"
        },
        "id": "_yMCnTrdtEKW",
        "outputId": "53775b37-ab84-4f4f-edb9-d1e422c8c941"
      },
      "outputs": [
        {
          "output_type": "stream",
          "name": "stderr",
          "text": [
            "<ipython-input-10-09fbedded3d2>:2: UserWarning: Could not infer format, so each element will be parsed individually, falling back to `dateutil`. To ensure parsing is consistent and as-expected, please specify a format.\n",
            "  data[\"Measurement Timestamp\"] = pd.to_datetime(data[\"Measurement Timestamp\"], errors='coerce')\n"
          ]
        }
      ],
      "source": [
        "# Convert \"Measurement Timestamp\" to datetime\n",
        "data[\"Measurement Timestamp\"] = pd.to_datetime(data[\"Measurement Timestamp\"], errors='coerce')\n",
        "\n",
        "# Extract datetime features and create cyclical representations\n",
        "data[\"Month\"] = data[\"Measurement Timestamp\"].dt.month\n",
        "data[\"Hour\"] = data[\"Measurement Timestamp\"].dt.hour\n",
        "data[\"Month_sin\"] = np.sin(2 * np.pi * data[\"Month\"] / 12)\n",
        "data[\"Month_cos\"] = np.cos(2 * np.pi * data[\"Month\"] / 12)\n",
        "data[\"Hour_sin\"] = np.sin(2 * np.pi * data[\"Hour\"] / 24)\n",
        "data[\"Hour_cos\"] = np.cos(2 * np.pi * data[\"Hour\"] / 24)\n",
        "\n",
        "# Drop unnecessary columns\n",
        "data = data.drop(columns=[\"Station Name\", \"Measurement Timestamp\", \"Measurement Timestamp Label\", \"Measurement ID\", \"Month\", \"Hour\"])\n"
      ]
    },
    {
      "cell_type": "code",
      "execution_count": 11,
      "metadata": {
        "id": "P8cBofDutKAm"
      },
      "outputs": [],
      "source": [
        "imputer = SimpleImputer(strategy=\"mean\")\n",
        "data_imputed = pd.DataFrame(imputer.fit_transform(data), columns=data.columns)\n"
      ]
    },
    {
      "cell_type": "code",
      "execution_count": 12,
      "metadata": {
        "id": "a9wxg-x_tRSR"
      },
      "outputs": [],
      "source": [
        "X = data_imputed.drop(columns=[\"Air Temperature\"])\n",
        "y = data_imputed[\"Air Temperature\"]\n",
        "\n",
        "# Split into training and testing sets\n",
        "X_train, X_test, y_train, y_test = train_test_split(X, y, test_size=0.2, random_state=42)\n"
      ]
    },
    {
      "cell_type": "code",
      "execution_count": 13,
      "metadata": {
        "id": "ZmBo43e-tnDm"
      },
      "outputs": [],
      "source": [
        "# Initialize base models\n",
        "gbm = GradientBoostingRegressor(random_state=42)\n",
        "gbr = GradientBoostingRegressor(random_state=42, n_estimators=150, learning_rate=0.1, max_depth=4)\n",
        "rf = RandomForestRegressor(random_state=42, n_estimators=100)\n",
        "\n",
        "# Define stacking model with Linear Regression as the meta-model\n",
        "stacking_regressor = StackingRegressor(\n",
        "    estimators=[\n",
        "        ('gbm', gbm),\n",
        "        ('gbr', gbr),\n",
        "        ('rf', rf)\n",
        "    ],\n",
        "    final_estimator=LinearRegression(),\n",
        "    n_jobs=-1\n",
        ")\n"
      ]
    },
    {
      "cell_type": "code",
      "source": [
        "# Train the stacking model\n",
        "stacking_regressor.fit(X_train, y_train)\n",
        "\n",
        "# Predict and evaluate the model\n",
        "y_pred = stacking_regressor.predict(X_test)\n",
        "\n",
        "# Calculate RMSE, R2 Score, and Accuracy\n",
        "mse = mean_squared_error(y_test, y_pred)\n",
        "rmse = np.sqrt(mse)\n",
        "r2 = r2_score(y_test, y_pred)\n",
        "\n",
        "# Define tolerance and calculate accuracy\n",
        "tolerance = 2.0  # Define tolerance level in temperature units\n",
        "accuracy = np.mean(np.abs(y_test - y_pred) <= tolerance) * 100\n",
        "\n",
        "print(\"Root Mean Squared Error (RMSE):\", rmse)\n",
        "print(\"R-squared (R2) Score:\", r2)\n",
        "print(\"Accuracy within tolerance ±2.0 units:\", accuracy, \"%\")\n"
      ],
      "metadata": {
        "colab": {
          "base_uri": "https://localhost:8080/"
        },
        "id": "oAO_rjwzADeD",
        "outputId": "579d38b2-9640-494c-8a3a-7d2895e58917"
      },
      "execution_count": 14,
      "outputs": [
        {
          "output_type": "stream",
          "name": "stdout",
          "text": [
            "Root Mean Squared Error (RMSE): 1.6062053753451515\n",
            "R-squared (R2) Score: 0.9735088597189322\n",
            "Accuracy within tolerance ±2.0 units: 87.02386998476383 %\n"
          ]
        }
      ]
    }
  ],
  "metadata": {
    "colab": {
      "provenance": []
    },
    "kernelspec": {
      "display_name": "Python 3",
      "name": "python3"
    },
    "language_info": {
      "name": "python"
    }
  },
  "nbformat": 4,
  "nbformat_minor": 0
}