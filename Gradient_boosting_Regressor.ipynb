{
  "nbformat": 4,
  "nbformat_minor": 0,
  "metadata": {
    "colab": {
      "provenance": [],
      "toc_visible": true
    },
    "kernelspec": {
      "name": "python3",
      "display_name": "Python 3"
    },
    "language_info": {
      "name": "python"
    }
  },
  "cells": [
    {
      "cell_type": "code",
      "execution_count": 1,
      "metadata": {
        "id": "iFNwl6cylSYS"
      },
      "outputs": [],
      "source": [
        "import pandas as pd\n",
        "from sklearn.model_selection import train_test_split, GridSearchCV\n",
        "from sklearn.ensemble import GradientBoostingRegressor\n",
        "from sklearn.metrics import mean_squared_error, r2_score\n",
        "from sklearn.preprocessing import StandardScaler\n",
        "from sklearn.pipeline import Pipeline\n",
        "from sklearn.impute import SimpleImputer\n",
        "import numpy as np\n",
        "\n",
        "data = pd.read_csv('/weather-automated-sensors-dataset.csv')\n",
        "\n",
        "data = data.dropna(subset=[\"Air Temperature\"])\n"
      ]
    },
    {
      "cell_type": "code",
      "source": [
        "\n",
        "data[\"Measurement Timestamp\"] = pd.to_datetime(data[\"Measurement Timestamp\"], errors='coerce')\n",
        "data[\"Month\"] = data[\"Measurement Timestamp\"].dt.month\n",
        "data[\"Hour\"] = data[\"Measurement Timestamp\"].dt.hour\n",
        "data[\"Month_sin\"] = np.sin(2 * np.pi * data[\"Month\"] / 12)\n",
        "data[\"Month_cos\"] = np.cos(2 * np.pi * data[\"Month\"] / 12)\n",
        "data[\"Hour_sin\"] = np.sin(2 * np.pi * data[\"Hour\"] / 24)\n",
        "data[\"Hour_cos\"] = np.cos(2 * np.pi * data[\"Hour\"] / 24)\n",
        "\n",
        "\n",
        "data = data.drop(columns=[\"Station Name\", \"Measurement Timestamp\", \"Measurement Timestamp Label\", \"Measurement ID\", \"Month\", \"Hour\"])\n"
      ],
      "metadata": {
        "colab": {
          "base_uri": "https://localhost:8080/"
        },
        "id": "pa-GkgPRlimP",
        "outputId": "ccbf82d0-bd9c-4434-a92a-f0ff680efb36"
      },
      "execution_count": 2,
      "outputs": [
        {
          "output_type": "stream",
          "name": "stderr",
          "text": [
            "<ipython-input-2-9e61cb90e949>:2: UserWarning: Could not infer format, so each element will be parsed individually, falling back to `dateutil`. To ensure parsing is consistent and as-expected, please specify a format.\n",
            "  data[\"Measurement Timestamp\"] = pd.to_datetime(data[\"Measurement Timestamp\"], errors='coerce')\n"
          ]
        }
      ]
    },
    {
      "cell_type": "code",
      "source": [
        "imputer = SimpleImputer(strategy=\"mean\")\n",
        "data_imputed = pd.DataFrame(imputer.fit_transform(data), columns=data.columns)\n"
      ],
      "metadata": {
        "id": "nn4JP64roExV"
      },
      "execution_count": 3,
      "outputs": []
    },
    {
      "cell_type": "code",
      "source": [
        "X = data_imputed.drop(columns=[\"Air Temperature\"])\n",
        "y = data_imputed[\"Air Temperature\"]\n",
        "\n",
        "\n",
        "X_train, X_test, y_train, y_test = train_test_split(X, y, test_size=0.2, random_state=42)\n"
      ],
      "metadata": {
        "id": "8MOLz_46oUbT"
      },
      "execution_count": 4,
      "outputs": []
    },
    {
      "cell_type": "code",
      "source": [
        "from sklearn.pipeline import Pipeline\n",
        "\n",
        "pipeline = Pipeline([\n",
        "    ('scaler', StandardScaler()),\n",
        "    ('gbm', GradientBoostingRegressor(random_state=42))\n",
        "])\n",
        "\n",
        "param_grid = {\n",
        "    'gbm__n_estimators': [100, 150],\n",
        "    'gbm__learning_rate': [0.05, 0.1],\n",
        "    'gbm__max_depth': [3, 4],\n",
        "}\n",
        "\n",
        "\n",
        "grid_search = GridSearchCV(pipeline, param_grid, cv=3, scoring='neg_mean_squared_error', n_jobs=-1, verbose=1)\n",
        "grid_search.fit(X_train, y_train)\n",
        "\n",
        "\n",
        "best_model = grid_search.best_estimator_\n"
      ],
      "metadata": {
        "colab": {
          "base_uri": "https://localhost:8080/"
        },
        "id": "xo-tRt8boXp6",
        "outputId": "7fc1b70b-2ae2-4418-c04f-21f6a683497c"
      },
      "execution_count": 5,
      "outputs": [
        {
          "output_type": "stream",
          "name": "stdout",
          "text": [
            "Fitting 3 folds for each of 8 candidates, totalling 24 fits\n"
          ]
        }
      ]
    },
    {
      "cell_type": "code",
      "source": [
        "\n",
        "y_pred = best_model.predict(X_test)\n",
        "mse = mean_squared_error(y_test, y_pred)\n",
        "rmse = np.sqrt(mse)\n",
        "r2 = r2_score(y_test, y_pred)\n",
        "tolerance = 2.0\n",
        "accuracy = np.mean(np.abs(y_test - y_pred) <= tolerance) * 100\n",
        "\n",
        "print(\"Root Mean Squared Error (RMSE):\", rmse)\n",
        "print(\"R-squared (R2) Score:\", r2)\n",
        "print(\"Accuracy within tolerance ±2.0 units:\", accuracy, \"%\")\n"
      ],
      "metadata": {
        "colab": {
          "base_uri": "https://localhost:8080/"
        },
        "id": "qLsRnKoNocbh",
        "outputId": "07e70aa4-bca7-4f1e-e328-38fa8a08a42c"
      },
      "execution_count": 7,
      "outputs": [
        {
          "output_type": "stream",
          "name": "stdout",
          "text": [
            "Root Mean Squared Error (RMSE): 2.068630449843525\n",
            "R-squared (R2) Score: 0.9560595673603721\n",
            "Accuracy within tolerance ±2.0 units: 80.65854071440664 %\n"
          ]
        }
      ]
    },
    {
      "cell_type": "code",
      "source": [],
      "metadata": {
        "id": "30gvNICepdDj"
      },
      "execution_count": null,
      "outputs": []
    }
  ]
}